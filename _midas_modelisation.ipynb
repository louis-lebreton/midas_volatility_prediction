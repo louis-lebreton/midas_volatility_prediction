{
 "cells": [
  {
   "cell_type": "markdown",
   "metadata": {},
   "source": [
    "# **Geopolitical risk uncertainty and oil future volatility: Evidence from MIDAS models**"
   ]
  },
  {
   "cell_type": "markdown",
   "metadata": {},
   "source": [
    "**Etapes** :\n",
    "- Création de mesures de volatité et décomposition de l'indice GPR\n",
    "- Estimation et prédictions avec les modèles MIDAS à différents horizons\n",
    "- Evaluation des résultats via affichage de la HMSE, HMAE et p-values des tests MCS de comparaison des modèles "
   ]
  },
  {
   "cell_type": "code",
   "execution_count": null,
   "metadata": {},
   "outputs": [],
   "source": [
    "import numpy as np\n",
    "import pandas as pd\n",
    "import matplotlib.pyplot as plt\n",
    "\n",
    "from src.volatility_measures import RealizedVolatilityMeasure\n",
    "from src.gpr_measures import GPRDecomposer\n",
    "from src.midas_models import MIDASModel\n",
    "from src.model_evaluation import ModelEvaluation"
   ]
  },
  {
   "cell_type": "markdown",
   "metadata": {},
   "source": [
    "## Importation des données"
   ]
  },
  {
   "cell_type": "markdown",
   "metadata": {},
   "source": [
    "Data E-mini Crude Oil Futures"
   ]
  },
  {
   "cell_type": "code",
   "execution_count": null,
   "metadata": {},
   "outputs": [],
   "source": [
    "df_oil = pd.read_csv('data/raw/E_mini_Light_Crude_Oil_Futures_4h_2018_2025.csv', delimiter=',', decimal='.')\n",
    "df_oil['time'] = pd.to_datetime(df_oil['time'])\n",
    "df_oil.index = df_oil['time']\n",
    "df_oil.drop(columns=['time'], inplace = True)\n",
    "df_oil.head()"
   ]
  },
  {
   "cell_type": "markdown",
   "metadata": {},
   "source": [
    "Data indice GPR"
   ]
  },
  {
   "cell_type": "code",
   "execution_count": null,
   "metadata": {},
   "outputs": [],
   "source": [
    "df_gpr = pd.read_excel('data/raw/data_gpr_daily_recent.xls', usecols=range(9))\n",
    "df_gpr['DAY'] = pd.to_datetime(df_gpr['DAY'], format='%Y%m%d')\n",
    "df_gpr.index = df_gpr['DAY']\n",
    "df_gpr.drop(columns=['DAY'], inplace = True)\n",
    "print('len(df_gpr) :', len(df_gpr))"
   ]
  },
  {
   "cell_type": "markdown",
   "metadata": {},
   "source": [
    "## Mesures de volatilité"
   ]
  },
  {
   "cell_type": "code",
   "execution_count": null,
   "metadata": {},
   "outputs": [],
   "source": [
    "rv_measure = RealizedVolatilityMeasure(df_oil)\n",
    "\n",
    "# calcule de toutes les mesures de volatilité\n",
    "df_volatility = rv_measure.all_volatility_measures(alpha=0.05, price_col='close')\n",
    "\n",
    "# sauvegarde\n",
    "# df_volatility.to_csv('data/result/volatility_data.csv')\n",
    "# df_volatility = pd.read_csv('data/result/volatility_data.csv', index_col = 0)\n",
    "\n",
    "df_volatility.head()"
   ]
  },
  {
   "cell_type": "markdown",
   "metadata": {},
   "source": [
    "Visualisation"
   ]
  },
  {
   "cell_type": "code",
   "execution_count": null,
   "metadata": {},
   "outputs": [],
   "source": [
    "# rv\n",
    "df_volatility['rv'].plot(title='Realized Volatility 01-01-2018 à 17-05-2025')\n",
    "plt.xticks(rotation=90)\n",
    "plt.show()\n",
    "\n",
    "# crv x cj\n",
    "plt.figure(figsize=(8, 5))\n",
    "df_volatility_2025 = df_volatility[df_volatility.index > '2025-01-01']\n",
    "df_volatility_2025[['crv', 'cj']].plot(kind='area', stacked=True)\n",
    "plt.xticks(rotation=90)\n",
    "plt.title('Continuous component vs. Jump component - Années 2025')\n",
    "plt.show()"
   ]
  },
  {
   "cell_type": "markdown",
   "metadata": {},
   "source": [
    "Sur le 1er graphique, on peut observer la période de forte volatilité lors de la pandémie de COVID-19. Sur le 2nd graphique qui ne représente que l'année 2025, on peut identifier une période de volatilité plus élevée qui a suivi le 2 avril 2025 (\"Liberation day\"), date de début de la hausse des tarifs douaniers américains."
   ]
  },
  {
   "cell_type": "markdown",
   "metadata": {},
   "source": [
    "## Décomposition de l'indice GPR"
   ]
  },
  {
   "cell_type": "code",
   "execution_count": null,
   "metadata": {},
   "outputs": [],
   "source": [
    "decomposer = GPRDecomposer()\n",
    "df_gpr_augmente = decomposer.fit_transform(df_gpr['GPRD'])"
   ]
  },
  {
   "cell_type": "markdown",
   "metadata": {},
   "source": [
    "- gpr (Geopolitical Risk index): Indice général mesurant les risques géopolitiques mondiaux\n",
    "- GPRD_ACT (Geopolitical Risk - Actions): Mesure des risques géopolitiques basée sur les actions concrètes des acteurs politiques (press coverage of actual adverse geopolitical events, such as terrorist acts or the beginning of a war)\n",
    "- GPRD_THREAT (Geopolitical Risk - Threats): Mesure des risques géopolitiques basée sur les menaces et déclarations d'intention.\n",
    "- gpr_expected (Expected Geopolitical Risk): Mesure de risques géopolitiques qui ne sont pas imprévus (découle du lag d'un modèle AR(1))\n",
    "- gpr_shocked (Shocked Geopolitical Risk): Mesure des chocs ou surprises de risques géopolitiques imprévus (découle du résidu d'un modèle AR(1))"
   ]
  },
  {
   "cell_type": "code",
   "execution_count": null,
   "metadata": {},
   "outputs": [],
   "source": [
    "# on veut garder GPRD_ACT et GPRD_THREAT pour la suite\n",
    "df_gpr_augmente = pd.merge(df_gpr_augmente, df_gpr[['GPRD_ACT', 'GPRD_THREAT']], how='left', left_index=True, right_index=True)\n",
    "df_gpr_augmente.head()"
   ]
  },
  {
   "cell_type": "markdown",
   "metadata": {},
   "source": [
    "## **Modèles MIDAS** : Estimations et prédictions"
   ]
  },
  {
   "cell_type": "markdown",
   "metadata": {},
   "source": [
    "Construction du df joint"
   ]
  },
  {
   "cell_type": "code",
   "execution_count": null,
   "metadata": {},
   "outputs": [],
   "source": [
    "# df des volatilités du E-mini Crude Oil Futures\n",
    "df_volatility.index = pd.to_datetime(df_volatility.index).normalize()\n",
    "df_volatility.index = df_volatility.index.tz_localize(None)\n",
    "print('len(df_volatility) :', len(df_volatility))\n",
    "\n",
    "# df complet : mesures de volatilités + indices GPR\n",
    "df = df_volatility.join(df_gpr_augmente, how='left')\n",
    "df = df[:-1] # suppression  de la dernière ligne\n",
    "print('len(df) :', len(df))\n",
    "df.head()"
   ]
  },
  {
   "cell_type": "markdown",
   "metadata": {},
   "source": [
    "train test split"
   ]
  },
  {
   "cell_type": "code",
   "execution_count": null,
   "metadata": {},
   "outputs": [],
   "source": [
    "train_size = int(len(df) * 0.8)\n",
    "train_df = df.iloc[:train_size]\n",
    "test_df = df.iloc[train_size:]\n",
    "print('shape train_df :', train_df.shape)\n",
    "print('shape test_df :', test_df.shape)"
   ]
  },
  {
   "cell_type": "markdown",
   "metadata": {},
   "source": [
    "Choix de l'indice GPR"
   ]
  },
  {
   "cell_type": "code",
   "execution_count": null,
   "metadata": {},
   "outputs": [],
   "source": [
    "gpr_str = 'gpr' # gpr ou gpr_expected ou gpr_shocked ou GPRD_THREAT ou GPRD_ACT"
   ]
  },
  {
   "cell_type": "markdown",
   "metadata": {},
   "source": [
    "Choix des horizons à prédire"
   ]
  },
  {
   "cell_type": "code",
   "execution_count": null,
   "metadata": {},
   "outputs": [],
   "source": [
    "horizons = [1, 5, 22]"
   ]
  },
  {
   "cell_type": "markdown",
   "metadata": {},
   "source": [
    "Choix de maxiter et kmax"
   ]
  },
  {
   "cell_type": "code",
   "execution_count": null,
   "metadata": {},
   "outputs": [],
   "source": [
    "kmax = 66\n",
    "maxiter = 1000"
   ]
  },
  {
   "cell_type": "markdown",
   "metadata": {},
   "source": [
    "Lancement du training et de la prédiction sur l'echantillon test"
   ]
  },
  {
   "cell_type": "code",
   "execution_count": null,
   "metadata": {},
   "outputs": [],
   "source": [
    "results = {}\n",
    "\n",
    "# estimation par horizon\n",
    "for h in horizons:\n",
    "    print(\"\\n\", \"-\"*50, \"prédiction à\", h, \"jours\", \"-\"*50)\n",
    "    \n",
    "    # preparation des variables cibles pour chaque horizon (comme à la fin de la 2eme page de l'article)\n",
    "    # en prenant la moyenne des h prochaines valeurs de RV pour l'horizon h\n",
    "    # pour le train\n",
    "    target = {}\n",
    "    for i in range(len(train_df) - h):\n",
    "        if i+h < len(train_df):\n",
    "            # moyenne des h prochaines valeurs de RV pour l'horizon h\n",
    "            target[i] = train_df['rv'].iloc[i+1:i+h+1].mean()\n",
    "    \n",
    "    y_train = np.array(list(target.values()))\n",
    "\n",
    "    # pour le test\n",
    "    target_test = {}\n",
    "    for i in range(len(test_df) - h):\n",
    "        if i+h < len(test_df):\n",
    "            target_test[i] = test_df['rv'].iloc[i+1:i+h+1].mean()\n",
    "    \n",
    "    y_test = np.array(list(target_test.values()))\n",
    "    \n",
    "    # Ajustement du modèle MIDAS-RV (Modèle 0)\n",
    "    print(\"Ajustement du modèle MIDAS-RV (Modèle 0)\")\n",
    "    midas = MIDASModel(kmax=kmax, options_dict = {'maxiter': maxiter})\n",
    "    params_rv = midas.fit_midas_rv(y_train,\n",
    "                                    train_df['rv'].values,\n",
    "                                    horizon=h)\n",
    "    print(f\"Paramètres estimés: {params_rv}\")\n",
    "    \n",
    "    pred_rv = midas.predict(test_df, model_type='MIDAS-RV')\n",
    "    \n",
    "\n",
    "    # Ajustement du modèle MIDAS-RS (Modèle 1)\n",
    "    print(\"Ajustement du modèle MIDAS-RS (Modèle 1)\")\n",
    "    midas = MIDASModel(kmax=kmax, options_dict = {'maxiter': maxiter})\n",
    "    \n",
    "    params_rs = midas.fit_midas_rs(y_train,\n",
    "                                    train_df['rv_pos'].values,\n",
    "                                    train_df['rv_neg'].values,\n",
    "                                    horizon=h)\n",
    "    print(f\"Paramètres estimés: {params_rs}\")\n",
    "\n",
    "    pred_rs = midas.predict(test_df, model_type='MIDAS-RS')\n",
    "    \n",
    "    # Ajustement du modèle MIDAS-CJ (Modèle 2)\n",
    "    print(\"Ajustement du modèle MIDAS-CJ (Modèle 2)\")\n",
    "    midas = MIDASModel(kmax=kmax, options_dict = {'maxiter': maxiter})\n",
    "    params_cj = midas.fit_midas_cj(y_train,\n",
    "                                    train_df['crv'].values,\n",
    "                                    train_df['cj'].values,\n",
    "                                    horizon=h)\n",
    "    print(f\"Paramètres estimés: {params_cj}\")\n",
    "    \n",
    "    pred_cj = midas.predict(test_df, model_type='MIDAS-CJ')\n",
    "\n",
    "    # Ajustement du modèle MIDAS-RV-GPR (Modèle 3)\n",
    "    print(\"Ajustement du modèle MIDAS-RV-GPR (Modèle 3)\")\n",
    "    midas = MIDASModel(kmax=kmax, options_dict = {'maxiter': maxiter})\n",
    "    params_rv_gpr = midas.fit_midas_rv_gpr(y_train,\n",
    "                                            train_df['rv'].values,\n",
    "                                            train_df[gpr_str].values,\n",
    "                                            horizon=h)\n",
    "    print(f\"Paramètres estimés: {params_rv_gpr}\")\n",
    "    \n",
    "    pred_rv_gpr = midas.predict(test_df, model_type='MIDAS-RV-GPR', gpr_str=gpr_str)\n",
    "\n",
    "    # Ajustement du modèle MIDAS-RS-GPR (Modèle 4)\n",
    "    print(\"Ajustement du modèle MIDAS-RS-GPR (Modèle 4)\")\n",
    "    midas = MIDASModel(kmax=kmax, options_dict = {'maxiter': maxiter})\n",
    "    params_rs_gpr = midas.fit_midas_rs_gpr(y_train, \n",
    "                                            train_df['rv_pos'].values,\n",
    "                                            train_df['rv_neg'].values,\n",
    "                                            train_df[gpr_str].values,\n",
    "                                            horizon=h)\n",
    "    print(f\"Paramètres estimés: {params_rs_gpr}\")\n",
    "    \n",
    "    pred_rs_gpr = midas.predict(test_df, model_type='MIDAS-RS-GPR', gpr_str=gpr_str)\n",
    "\n",
    "    # Ajustement du modèle MIDAS-CJ-GPR (Modèle 5)\n",
    "    print(\"Ajustement du modèle MIDAS-CJ-GPR (Modèle 5)\")\n",
    "    midas = MIDASModel(kmax=kmax, options_dict = {'maxiter': maxiter})\n",
    "    params_cj_gpr = midas.fit_midas_cj_gpr(y_train,\n",
    "                                            train_df['crv'].values,\n",
    "                                            train_df['cj'].values,\n",
    "                                            train_df[gpr_str].values,\n",
    "                                            horizon=h)\n",
    "    print(f\"Paramètres estimés: {params_cj_gpr}\")\n",
    "    \n",
    "    pred_cj_gpr = midas.predict(test_df, model_type='MIDAS-CJ-GPR', gpr_str=gpr_str)\n",
    "    \n",
    "    # predictions avec les différents modèles\n",
    "    predictions = {\n",
    "        'MIDAS-RV': pred_rv,\n",
    "        'MIDAS-RS': pred_rs,\n",
    "        'MIDAS-CJ': pred_cj,\n",
    "        'MIDAS-RV-GPR': pred_rv_gpr,\n",
    "        'MIDAS-RS-GPR': pred_rs_gpr,\n",
    "        'MIDAS-CJ-GPR': pred_cj_gpr\n",
    "    }\n",
    "\n",
    "    # Evaluation des modèles sur l'ensemble de test\n",
    "\n",
    "    # métriques d'erreur de l'article: HMSE et HMAE\n",
    "    hmse = {}\n",
    "    hmae = {}\n",
    "    \n",
    "    for name, pred in predictions.items():\n",
    "\n",
    "        min_len = min(len(pred), len(y_test))\n",
    "        pred_aligned = pred[:min_len - 2]\n",
    "        y_test_aligned = y_test[:min_len - 2]\n",
    "        \n",
    "        ratio = np.divide(pred_aligned, y_test_aligned, out=np.zeros_like(pred_aligned), where=y_test_aligned!=0)\n",
    "        \n",
    "        # HMSE (équation 14 de l'article)\n",
    "        hmse[name] = np.mean((1 - ratio) ** 2)\n",
    "        # HMAE (équation 15 de l'article)\n",
    "        hmae[name] = np.mean(np.abs(1 - ratio))\n",
    "        \n",
    "        print(f\"{name}: HMSE = {hmse[name]:.4f}, HMAE = {hmae[name]:.4f}\")\n",
    "    \n",
    "    # resultats\n",
    "    results[h] = {\n",
    "        'hmse': hmse,\n",
    "        'hmae': hmae,\n",
    "        'predictions': predictions,\n",
    "        'actual': y_test\n",
    "    }"
   ]
  },
  {
   "cell_type": "markdown",
   "metadata": {},
   "source": [
    "## **Modèles MIDAS** : Evaluation des résultats"
   ]
  },
  {
   "cell_type": "code",
   "execution_count": null,
   "metadata": {},
   "outputs": [],
   "source": [
    "evaluation = ModelEvaluation()"
   ]
  },
  {
   "cell_type": "markdown",
   "metadata": {},
   "source": [
    "### Out-of-sample evaluations : métriques HMSE et HMAE"
   ]
  },
  {
   "cell_type": "code",
   "execution_count": null,
   "metadata": {},
   "outputs": [],
   "source": [
    "evaluation.create_loss_metrics_table(results, horizons)"
   ]
  },
  {
   "cell_type": "markdown",
   "metadata": {},
   "source": [
    "### Out-of-sample evaluations : p-values des tests MCS"
   ]
  },
  {
   "cell_type": "code",
   "execution_count": null,
   "metadata": {},
   "outputs": [],
   "source": [
    "mcs_results = evaluation.run_all_mcs_tests(results, horizons = horizons, alpha = 0.25)\n",
    "evaluation.create_mcs_metrics_table(mcs_results, horizons = horizons)"
   ]
  }
 ],
 "metadata": {
  "kernelspec": {
   "display_name": ".venv_midas",
   "language": "python",
   "name": "python3"
  },
  "language_info": {
   "codemirror_mode": {
    "name": "ipython",
    "version": 3
   },
   "file_extension": ".py",
   "mimetype": "text/x-python",
   "name": "python",
   "nbconvert_exporter": "python",
   "pygments_lexer": "ipython3",
   "version": "3.11.4"
  }
 },
 "nbformat": 4,
 "nbformat_minor": 2
}
